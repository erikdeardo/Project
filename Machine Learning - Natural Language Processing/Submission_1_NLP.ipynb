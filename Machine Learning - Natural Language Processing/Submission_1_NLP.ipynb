{
  "nbformat": 4,
  "nbformat_minor": 0,
  "metadata": {
    "colab": {
      "name": "Salinan dari Submission 1 NLP.ipynb",
      "provenance": []
    },
    "kernelspec": {
      "name": "python3",
      "display_name": "Python 3"
    }
  },
  "cells": [
    {
      "cell_type": "code",
      "metadata": {
        "id": "ixNuICEyIX1w",
        "colab_type": "code",
        "colab": {
          "base_uri": "https://localhost:8080/",
          "height": 424
        },
        "outputId": "f67f6735-2ead-4079-9cfb-f1c9729efa3f"
      },
      "source": [
        "import pandas as pd\n",
        "df = pd.read_csv('/content/drive/My Drive/Dataset/bbc-text.csv')\n",
        "df"
      ],
      "execution_count": null,
      "outputs": [
        {
          "output_type": "execute_result",
          "data": {
            "text/html": [
              "<div>\n",
              "<style scoped>\n",
              "    .dataframe tbody tr th:only-of-type {\n",
              "        vertical-align: middle;\n",
              "    }\n",
              "\n",
              "    .dataframe tbody tr th {\n",
              "        vertical-align: top;\n",
              "    }\n",
              "\n",
              "    .dataframe thead th {\n",
              "        text-align: right;\n",
              "    }\n",
              "</style>\n",
              "<table border=\"1\" class=\"dataframe\">\n",
              "  <thead>\n",
              "    <tr style=\"text-align: right;\">\n",
              "      <th></th>\n",
              "      <th>category</th>\n",
              "      <th>text</th>\n",
              "    </tr>\n",
              "  </thead>\n",
              "  <tbody>\n",
              "    <tr>\n",
              "      <th>0</th>\n",
              "      <td>tech</td>\n",
              "      <td>tv future in the hands of viewers with home th...</td>\n",
              "    </tr>\n",
              "    <tr>\n",
              "      <th>1</th>\n",
              "      <td>business</td>\n",
              "      <td>worldcom boss  left books alone  former worldc...</td>\n",
              "    </tr>\n",
              "    <tr>\n",
              "      <th>2</th>\n",
              "      <td>sport</td>\n",
              "      <td>tigers wary of farrell  gamble  leicester say ...</td>\n",
              "    </tr>\n",
              "    <tr>\n",
              "      <th>3</th>\n",
              "      <td>sport</td>\n",
              "      <td>yeading face newcastle in fa cup premiership s...</td>\n",
              "    </tr>\n",
              "    <tr>\n",
              "      <th>4</th>\n",
              "      <td>entertainment</td>\n",
              "      <td>ocean s twelve raids box office ocean s twelve...</td>\n",
              "    </tr>\n",
              "    <tr>\n",
              "      <th>...</th>\n",
              "      <td>...</td>\n",
              "      <td>...</td>\n",
              "    </tr>\n",
              "    <tr>\n",
              "      <th>2220</th>\n",
              "      <td>business</td>\n",
              "      <td>cars pull down us retail figures us retail sal...</td>\n",
              "    </tr>\n",
              "    <tr>\n",
              "      <th>2221</th>\n",
              "      <td>politics</td>\n",
              "      <td>kilroy unveils immigration policy ex-chatshow ...</td>\n",
              "    </tr>\n",
              "    <tr>\n",
              "      <th>2222</th>\n",
              "      <td>entertainment</td>\n",
              "      <td>rem announce new glasgow concert us band rem h...</td>\n",
              "    </tr>\n",
              "    <tr>\n",
              "      <th>2223</th>\n",
              "      <td>politics</td>\n",
              "      <td>how political squabbles snowball it s become c...</td>\n",
              "    </tr>\n",
              "    <tr>\n",
              "      <th>2224</th>\n",
              "      <td>sport</td>\n",
              "      <td>souness delight at euro progress boss graeme s...</td>\n",
              "    </tr>\n",
              "  </tbody>\n",
              "</table>\n",
              "<p>2225 rows × 2 columns</p>\n",
              "</div>"
            ],
            "text/plain": [
              "           category                                               text\n",
              "0              tech  tv future in the hands of viewers with home th...\n",
              "1          business  worldcom boss  left books alone  former worldc...\n",
              "2             sport  tigers wary of farrell  gamble  leicester say ...\n",
              "3             sport  yeading face newcastle in fa cup premiership s...\n",
              "4     entertainment  ocean s twelve raids box office ocean s twelve...\n",
              "...             ...                                                ...\n",
              "2220       business  cars pull down us retail figures us retail sal...\n",
              "2221       politics  kilroy unveils immigration policy ex-chatshow ...\n",
              "2222  entertainment  rem announce new glasgow concert us band rem h...\n",
              "2223       politics  how political squabbles snowball it s become c...\n",
              "2224          sport  souness delight at euro progress boss graeme s...\n",
              "\n",
              "[2225 rows x 2 columns]"
            ]
          },
          "metadata": {
            "tags": []
          },
          "execution_count": 1
        }
      ]
    },
    {
      "cell_type": "code",
      "metadata": {
        "id": "84NxW91aLHWo",
        "colab_type": "code",
        "colab": {
          "base_uri": "https://localhost:8080/",
          "height": 293
        },
        "outputId": "42bd7e4b-a768-46e5-aa0b-7e2179583965"
      },
      "source": [
        "kategori = pd.get_dummies(df.category)\n",
        "df_new = pd.concat([df, kategori], axis=1)\n",
        "df_new = df_new.drop(columns='category')\n",
        "max_len =  df_new['text'].map(lambda x: len(x.split())).max()\n",
        "print(df_new)\n",
        "print(max_len)"
      ],
      "execution_count": null,
      "outputs": [
        {
          "output_type": "stream",
          "text": [
            "                                                   text  business  ...  sport  tech\n",
            "0     tv future in the hands of viewers with home th...         0  ...      0     1\n",
            "1     worldcom boss  left books alone  former worldc...         1  ...      0     0\n",
            "2     tigers wary of farrell  gamble  leicester say ...         0  ...      1     0\n",
            "3     yeading face newcastle in fa cup premiership s...         0  ...      1     0\n",
            "4     ocean s twelve raids box office ocean s twelve...         0  ...      0     0\n",
            "...                                                 ...       ...  ...    ...   ...\n",
            "2220  cars pull down us retail figures us retail sal...         1  ...      0     0\n",
            "2221  kilroy unveils immigration policy ex-chatshow ...         0  ...      0     0\n",
            "2222  rem announce new glasgow concert us band rem h...         0  ...      0     0\n",
            "2223  how political squabbles snowball it s become c...         0  ...      0     0\n",
            "2224  souness delight at euro progress boss graeme s...         0  ...      1     0\n",
            "\n",
            "[2225 rows x 6 columns]\n",
            "4492\n"
          ],
          "name": "stdout"
        }
      ]
    },
    {
      "cell_type": "code",
      "metadata": {
        "id": "0efhUtfwBF49",
        "colab_type": "code",
        "colab": {}
      },
      "source": [
        "import re\n",
        "#from nltk.download import stopwords\n",
        "import nltk\n",
        "#nltk.download('stopwords')\n",
        "from nltk.corpus import stopwords\n",
        "\n",
        "space = re.compile('[/(){}\\[\\]\\|@,;]')\n",
        "symbols= re.compile('[^0-9a-z #+_]')\n",
        "STOPWORDS = set(stopwords.words('english'))\n",
        "\n",
        "def text_cleaning(teks):\n",
        "    teks = teks.lower()\n",
        "    teks = space.sub(' ', teks)\n",
        "    teks = symbols.sub('', teks)\n",
        "    teks = teks.replace('x', '')\n",
        "    teks = ' '.join(word for word in teks.split() if word not in STOPWORDS)\n",
        "    return teks\n",
        "df_new['text']=df_new['text'].apply(text_cleaning)"
      ],
      "execution_count": null,
      "outputs": []
    },
    {
      "cell_type": "code",
      "metadata": {
        "id": "iZW1WK-wLb_k",
        "colab_type": "code",
        "colab": {
          "base_uri": "https://localhost:8080/",
          "height": 313
        },
        "outputId": "d196ab97-af13-4496-97fe-d783fc76fd9f"
      },
      "source": [
        "max_word = df_new['text']\n",
        "max_sentence = max_word.map(lambda x: len(x.split())).max()\n",
        "desc = df_new['text'].values\n",
        "label = df_new[['business',\t'entertainment', 'politics', 'sport',\t'tech']].values\n",
        "print(desc)\n",
        "print(label)\n",
        "print(max_sentence)"
      ],
      "execution_count": null,
      "outputs": [
        {
          "output_type": "stream",
          "text": [
            "['tv future hands viewers home theatre systems plasma highdefinition tvs digital video recorders moving living room way people watch tv radically different five years time according epert panel gathered annual consumer electronics show las vegas discuss new technologies impact one favourite pastimes us leading trend programmes content delivered viewers via home networks cable satellite telecoms companies broadband service providers front rooms portable devices one talkedabout technologies ces digital personal video recorders dvr pvr settop boes like us tivo uk sky+ system allow people record store play pause forward wind tv programmes want essentially technology allows much personalised tv also builtin highdefinition tv sets big business japan us slower take europe lack highdefinition programming people forward wind adverts also forget abiding network channel schedules putting together alacarte entertainment us networks cable satellite companies worried means terms advertising revenues well brand identity viewer loyalty channels although us leads technology moment also concern raised europe particularly growing uptake services like sky+ happens today see nine months years time uk adam hume bbc broadcast futurologist told bbc news website likes bbc issues lost advertising revenue yet pressing issue moment commercial uk broadcasters brand loyalty important everyone talking content brands rather network brands said tim hanlon brand communications firm starcom mediavest reality broadband connections anybody producer content added challenge hard promote programme much choice means said stacey jolna senior vice president tv guide tv group way people find content want watch simplified tv viewers means networks us terms channels could take leaf google book search engine future instead scheduler help people find want watch kind channel model might work younger ipod generation used taking control gadgets play might suit everyone panel recognised older generations comfortable familiar schedules channel brands know getting perhaps want much choice put hands mr hanlon suggested end kids diapers pushing buttons already everything possible available said mr hanlon ultimately consumer tell market want 50 000 new gadgets technologies showcased ces many enhancing tvwatching eperience highdefinition tv sets everywhere many new models lcd liquid crystal display tvs launched dvr capability built instead eternal boes one eample launched show huma 26inch lcd tv 80hour tivo dvr dvd recorder one us biggest satellite tv companies directtv even launched branded dvr show 100hours recording capability instant replay search function set pause rewind tv 90 hours microsoft chief bill gates announced preshow keynote speech partnership tivo called tivotogo means people play recorded programmes windows pcs mobile devices reflect increasing trend freeing multimedia people watch want want'\n",
            " 'worldcom boss left books alone former worldcom boss bernie ebbers accused overseeing 11bn 58bn fraud never made accounting decisions witness told jurors david myers made comments questioning defence lawyers arguing mr ebbers responsible worldcom problems phone company collapsed 2002 prosecutors claim losses hidden protect firm shares mr myers already pleaded guilty fraud assisting prosecutors monday defence lawyer reid weingarten tried distance client allegations cross eamination asked mr myers ever knew mr ebbers make accounting decision aware mr myers replied ever know mr ebbers make accounting entry worldcom books mr weingarten pressed replied witness mr myers admitted ordered false accounting entries request former worldcom chief financial officer scott sullivan defence lawyers trying paint mr sullivan admitted fraud testify later trial mastermind behind worldcom accounting house cards mr ebbers team meanwhile looking portray affable boss admission pe graduate economist whatever abilities mr ebbers transformed worldcom relative unknown 160bn telecoms giant investor darling late 1990s worldcom problems mounted however competition increased telecoms boom petered firm finally collapsed shareholders lost 180bn 20 000 workers lost jobs mr ebbers trial epected last two months found guilty former ceo faces substantial jail sentence firmly declared innocence'\n",
            " 'tigers wary farrell gamble leicester say rushed making bid andy farrell great britain rugby league captain decide switch codes anybody else involved process still way away going net stage tigers boss john wells told bbc radio leicester moment still lot unknowns andy farrell least medical situation whoever take going take big big gamble farrell persistent knee problems operation knee five weeks ago epected another three months leicester saracens believed head list rugby union clubs interested signing farrell decides move 15man game move across union wells believes would better playing backs least initially sure could make step league union involved centre said wells think england would prefer progress position back row make use rugby league skills within forwards jury whether cross divide club balance struck cost gamble option bringing readymade replacement'\n",
            " ...\n",
            " 'rem announce new glasgow concert us band rem announced plans perform 10 000 scottish fans rescheduled gig band play dubbed europe biggest tent glasgow green tuesday 14 june forced pull concert secc glasgow last month bassist mike mills contracted flu fans bought tickets original 22 february show attend rescheduled concert june gig act warmup rem open air concert balloch castle country park banks loch lomond four days later promoters regular music booked glasgow green secc available suitable date mark mackie director regular music said fantastic news really shows rem commitment scottish fans coming back glasgow truly unique gig rem gigs kickstart promises memorable summer scottish music lovers grammy award winners u2 play hampden 21 june oasis also perform national stadium glasgow 29 june coldplay announced concert bellahouston park glasgow 1 july park held balado near kinross 910 july ticketweb secc bo office write customers bought tickets february gig asking want attend new show bought tickets person urged return point purchase anyone cannot make concert given refund cutoff date swapping tickets 1 april remaining go sale public'\n",
            " 'political squabbles snowball become commonplace argue blair brown like squabbling school kids supporters need grow stop bickering analysis fact gets wrong children fight adults solid reasons even trivial argument mature protagonists hard stop got going key feature endless feud everyone agree better ended everyone wants last word participant genuinely wants row stop thinks worth prolonging argument tiny bit ensure view heard successive attempts end argument last word ensure argument goes case mr blair mr brown successive books published ensuring issues never die participants stupid actually individual behaving entirely rationally given incentives facing indeed even piece economic theory eplains nothing obscure postneoclassical endogenous growth theory chancellor quoted ubiquitous piece game theory respectable policy wonks familiar often referred prisoner dilemma based parable much told economics degree courses sheriff two prisoners story goes two prisoners jointly charged heinous crime locked separate cells sheriff desperately needs confession least one provide enough evidence convict crime without confession prisoners get minimal sentence trumped charge clearly prisoners best strategy keep mouths shut take short sentence clever sheriff idea induce talk tells prisoner separately confess one confess let crime tells confess one confess get life prisoner confronted choice best bet confess partner confess get completely partner confess better confess ensure get life result course prisoners confess sheriff let either one prisoners individual logic behave way even though would better somehow agreed shut worry entirely follow look google 283 000 entries prisoners dilemma ramifications truly captured economists last couple decades parable used describe situation obvious sensible choice taken collectively rational choice individually behave selfishly cold war arms race eample classic case russia america would better arms rather lot arms long wants arms arms race ensues results individually logical decision buy arms results arms levels high economics tells us prisoners dilemma unless repeating eperience many times hard escape perverse logic good ehorting people stop buying arms stop arguing incentives encourage carry somehow incentives change case labour party believe rift blair brown camps bad reports suggest solomon wisdom needs deployed solve problem every parent knows ingenious solutions arguments solutions affect incentives participants eample famous rule one divides chooses way allocating piece cake sliced greedy children case apparently endless argument want come end ensure person last word one loses rather one wins row cost prolonging row even one briefing one book matter eceed benefit last word getting point rest party enforce protagonists retreating pretty quickly'\n",
            " 'souness delight euro progress boss graeme souness felt newcastle never really danger going uefa cup heerenveen early goal followed alan shearer strike earned 21 win place uefa cup last 16 obviously winning first leg gave us great advantage said 42 aggregate victory got goals early minds players job done got goal perhaps made us bit nervous shearer goal moved within 12 jackie milburn club scoring record 200 magpies souness said think beating record would bearing decision retire end season think got year would want stay net year anyway added struck ball well always done think power pace beat goalkeeper souness also paid tribute laurent robert heart much united attacking play first half really well everything want wide player future please said']\n",
            "[[0 0 0 0 1]\n",
            " [1 0 0 0 0]\n",
            " [0 0 0 1 0]\n",
            " ...\n",
            " [0 1 0 0 0]\n",
            " [0 0 1 0 0]\n",
            " [0 0 0 1 0]]\n",
            "2213\n"
          ],
          "name": "stdout"
        }
      ]
    },
    {
      "cell_type": "code",
      "metadata": {
        "id": "rnkd-gy0Lze5",
        "colab_type": "code",
        "colab": {}
      },
      "source": [
        "from sklearn.model_selection import train_test_split\n",
        "desc_train, desc_test, label_train, label_test = train_test_split(desc, label, test_size=0.2)"
      ],
      "execution_count": null,
      "outputs": []
    },
    {
      "cell_type": "code",
      "metadata": {
        "id": "I4PFgxj4MC17",
        "colab_type": "code",
        "colab": {}
      },
      "source": [
        "from tensorflow.keras.preprocessing.text import Tokenizer\n",
        "from tensorflow.keras.preprocessing.sequence import pad_sequences\n",
        "     \n",
        "tokenizer = Tokenizer(num_words=40000, oov_token='x')\n",
        "tokenizer.fit_on_texts(desc_train) \n",
        "tokenizer.fit_on_texts(desc_test)\n",
        "     \n",
        "seq_train = tokenizer.texts_to_sequences(desc_train)\n",
        "seq_test = tokenizer.texts_to_sequences(desc_test)\n",
        "     \n",
        "pad_train = pad_sequences(seq_train, maxlen=max_sentence) \n",
        "pad_test = pad_sequences(seq_test, maxlen=max_sentence)"
      ],
      "execution_count": null,
      "outputs": []
    },
    {
      "cell_type": "code",
      "metadata": {
        "id": "ZN3mlZPVMUhE",
        "colab_type": "code",
        "colab": {
          "base_uri": "https://localhost:8080/",
          "height": 384
        },
        "outputId": "d91f99c5-7b32-47d3-fedd-d78897f04ebc"
      },
      "source": [
        "import tensorflow as tf\n",
        "model = tf.keras.Sequential([\n",
        "    tf.keras.layers.Embedding(input_dim=40000, output_dim=150, input_length=max_sentence),\n",
        "    tf.keras.layers.SpatialDropout1D(0.25),\n",
        "    tf.keras.layers.LSTM(64),\n",
        "    tf.keras.layers.Dense(128, activation='relu'),\n",
        "    tf.keras.layers.Dense(64, activation='relu'),\n",
        "    tf.keras.layers.Dense(5, activation='softmax')\n",
        "])\n",
        "model.compile(loss='categorical_crossentropy',optimizer='RMSProp',metrics=['accuracy'])\n",
        "model.summary()"
      ],
      "execution_count": null,
      "outputs": [
        {
          "output_type": "stream",
          "text": [
            "Model: \"sequential\"\n",
            "_________________________________________________________________\n",
            "Layer (type)                 Output Shape              Param #   \n",
            "=================================================================\n",
            "embedding (Embedding)        (None, 2213, 150)         6000000   \n",
            "_________________________________________________________________\n",
            "spatial_dropout1d (SpatialDr (None, 2213, 150)         0         \n",
            "_________________________________________________________________\n",
            "lstm (LSTM)                  (None, 64)                55040     \n",
            "_________________________________________________________________\n",
            "dense (Dense)                (None, 128)               8320      \n",
            "_________________________________________________________________\n",
            "dense_1 (Dense)              (None, 64)                8256      \n",
            "_________________________________________________________________\n",
            "dense_2 (Dense)              (None, 5)                 325       \n",
            "=================================================================\n",
            "Total params: 6,071,941\n",
            "Trainable params: 6,071,941\n",
            "Non-trainable params: 0\n",
            "_________________________________________________________________\n"
          ],
          "name": "stdout"
        }
      ]
    },
    {
      "cell_type": "code",
      "metadata": {
        "id": "by68exwMMY4z",
        "colab_type": "code",
        "colab": {
          "base_uri": "https://localhost:8080/",
          "height": 164
        },
        "outputId": "1a975368-9e0b-4844-b08e-10c6e9c03b97"
      },
      "source": [
        "num_epochs = 4\n",
        "history = model.fit(pad_train, label_train, epochs=num_epochs,\n",
        "                    validation_data=(pad_test, label_test), verbose=2)"
      ],
      "execution_count": null,
      "outputs": [
        {
          "output_type": "stream",
          "text": [
            "Epoch 1/4\n",
            "56/56 - 101s - loss: 1.3534 - accuracy: 0.3685 - val_loss: 1.0102 - val_accuracy: 0.4921\n",
            "Epoch 2/4\n",
            "56/56 - 100s - loss: 0.7734 - accuracy: 0.6764 - val_loss: 0.4465 - val_accuracy: 0.9011\n",
            "Epoch 3/4\n",
            "56/56 - 100s - loss: 0.2272 - accuracy: 0.9399 - val_loss: 0.3141 - val_accuracy: 0.9213\n",
            "Epoch 4/4\n",
            "56/56 - 100s - loss: 0.0655 - accuracy: 0.9826 - val_loss: 0.2878 - val_accuracy: 0.9303\n"
          ],
          "name": "stdout"
        }
      ]
    },
    {
      "cell_type": "code",
      "metadata": {
        "id": "lrwiuUAfMcGc",
        "colab_type": "code",
        "colab": {}
      },
      "source": [
        ""
      ],
      "execution_count": null,
      "outputs": []
    }
  ]
}